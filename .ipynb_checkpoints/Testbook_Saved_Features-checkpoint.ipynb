{
 "cells": [
  {
   "cell_type": "code",
   "execution_count": 15,
   "metadata": {
    "scrolled": true
   },
   "outputs": [
    {
     "name": "stdout",
     "output_type": "stream",
     "text": [
      "done\n"
     ]
    }
   ],
   "source": [
    "%matplotlib inline\n",
    "import os\n",
    "import random\n",
    "import pickle as pickle\n",
    "import numpy as np\n",
    "import matplotlib.pyplot\n",
    "from matplotlib.pyplot import imshow\n",
    "import keras\n",
    "from keras.preprocessing import image\n",
    "from keras.applications.imagenet_utils import decode_predictions, preprocess_input\n",
    "from keras.models import Model\n",
    "from sklearn.decomposition import PCA\n",
    "from scipy.spatial import distance\n",
    "from tqdm import tqdm\n",
    "print(\"done\")"
   ]
  },
  {
   "cell_type": "code",
   "execution_count": 38,
   "metadata": {},
   "outputs": [],
   "source": [
    "def get_image(path):\n",
    "    img = image.load_img(path, target_size=model.input_shape[1:3])\n",
    "    x = image.img_to_array(img)\n",
    "    x = np.expand_dims(x, axis=0)\n",
    "    x = preprocess_input(x)\n",
    "    return img, x\n",
    "\n",
    "def get_closest_images(query_image_idx, num_results=5):\n",
    "    distances = [ distance.euclidean(pca_features[query_image_idx], feat) for feat in pca_features ]\n",
    "    idx_closest = sorted(range(len(distances)), key=lambda k: distances[k])[1:num_results+1]\n",
    "    return idx_closest\n",
    "\n",
    "def get_concatenated_images(indexes, thumb_height):\n",
    "    thumbs = []\n",
    "    for idx in indexes:\n",
    "        img = image.load_img(images[idx])\n",
    "        img = img.resize((int(img.width * thumb_height / img.height), thumb_height))\n",
    "        thumbs.append(img)\n",
    "    concat_image = np.concatenate([np.asarray(t) for t in thumbs], axis=1)\n",
    "    return concat_image"
   ]
  },
  {
   "cell_type": "code",
   "execution_count": 47,
   "metadata": {},
   "outputs": [
    {
     "name": "stdout",
     "output_type": "stream",
     "text": [
      "['Images\\\\Corel_0.jpg', 'Images\\\\Corel_1.jpg', 'Images\\\\Corel_10.jpg', 'Images\\\\Corel_100.jpg', 'Images\\\\Corel_101.jpg', 'Images\\\\Corel_102.jpg', 'Images\\\\Corel_103.jpg', 'Images\\\\Corel_104.jpg', 'Images\\\\Corel_105.jpg', 'Images\\\\Corel_106.jpg', 'Images\\\\Corel_107.jpg', 'Images\\\\Corel_108.jpg', 'Images\\\\Corel_109.jpg', 'Images\\\\Corel_11.jpg', 'Images\\\\Corel_110.jpg', 'Images\\\\Corel_111.jpg', 'Images\\\\Corel_112.jpg', 'Images\\\\Corel_113.jpg', 'Images\\\\Corel_114.jpg', 'Images\\\\Corel_115.jpg', 'Images\\\\Corel_116.jpg', 'Images\\\\Corel_117.jpg', 'Images\\\\Corel_118.jpg', 'Images\\\\Corel_119.jpg', 'Images\\\\Corel_12.jpg', 'Images\\\\Corel_120.jpg', 'Images\\\\Corel_121.jpg', 'Images\\\\Corel_122.jpg', 'Images\\\\Corel_123.jpg', 'Images\\\\Corel_124.jpg', 'Images\\\\Corel_125.jpg', 'Images\\\\Corel_126.jpg', 'Images\\\\Corel_127.jpg', 'Images\\\\Corel_128.jpg', 'Images\\\\Corel_129.jpg', 'Images\\\\Corel_13.jpg', 'Images\\\\Corel_130.jpg', 'Images\\\\Corel_131.jpg', 'Images\\\\Corel_132.jpg', 'Images\\\\Corel_133.jpg', 'Images\\\\Corel_134.jpg', 'Images\\\\Corel_135.jpg', 'Images\\\\Corel_136.jpg', 'Images\\\\Corel_137.jpg', 'Images\\\\Corel_138.jpg', 'Images\\\\Corel_139.jpg', 'Images\\\\Corel_14.jpg', 'Images\\\\Corel_140.jpg', 'Images\\\\Corel_141.jpg', 'Images\\\\Corel_142.jpg', 'Images\\\\Corel_143.jpg', 'Images\\\\Corel_144.jpg', 'Images\\\\Corel_145.jpg', 'Images\\\\Corel_146.jpg', 'Images\\\\Corel_147.jpg', 'Images\\\\Corel_148.jpg', 'Images\\\\Corel_149.jpg', 'Images\\\\Corel_15.jpg', 'Images\\\\Corel_150.jpg', 'Images\\\\Corel_151.jpg', 'Images\\\\Corel_152.jpg', 'Images\\\\Corel_153.jpg', 'Images\\\\Corel_154.jpg', 'Images\\\\Corel_155.jpg', 'Images\\\\Corel_156.jpg', 'Images\\\\Corel_157.jpg', 'Images\\\\Corel_158.jpg', 'Images\\\\Corel_159.jpg', 'Images\\\\Corel_16.jpg', 'Images\\\\Corel_160.jpg', 'Images\\\\Corel_161.jpg', 'Images\\\\Corel_162.jpg', 'Images\\\\Corel_163.jpg', 'Images\\\\Corel_164.jpg', 'Images\\\\Corel_165.jpg', 'Images\\\\Corel_166.jpg', 'Images\\\\Corel_167.jpg', 'Images\\\\Corel_168.jpg', 'Images\\\\Corel_169.jpg', 'Images\\\\Corel_17.jpg', 'Images\\\\Corel_170.jpg', 'Images\\\\Corel_171.jpg', 'Images\\\\Corel_172.jpg', 'Images\\\\Corel_173.jpg', 'Images\\\\Corel_174.jpg', 'Images\\\\Corel_175.jpg', 'Images\\\\Corel_176.jpg', 'Images\\\\Corel_177.jpg', 'Images\\\\Corel_178.jpg', 'Images\\\\Corel_179.jpg', 'Images\\\\Corel_18.jpg', 'Images\\\\Corel_180.jpg', 'Images\\\\Corel_181.jpg', 'Images\\\\Corel_182.jpg', 'Images\\\\Corel_183.jpg', 'Images\\\\Corel_184.jpg', 'Images\\\\Corel_185.jpg', 'Images\\\\Corel_186.jpg', 'Images\\\\Corel_187.jpg', 'Images\\\\Corel_188.jpg', 'Images\\\\Corel_189.jpg', 'Images\\\\Corel_19.jpg', 'Images\\\\Corel_190.jpg', 'Images\\\\Corel_191.jpg', 'Images\\\\Corel_192.jpg', 'Images\\\\Corel_193.jpg', 'Images\\\\Corel_194.jpg', 'Images\\\\Corel_195.jpg', 'Images\\\\Corel_196.jpg', 'Images\\\\Corel_197.jpg', 'Images\\\\Corel_198.jpg', 'Images\\\\Corel_199.jpg', 'Images\\\\Corel_2.jpg', 'Images\\\\Corel_20.jpg', 'Images\\\\Corel_200.jpg', 'Images\\\\Corel_201.jpg', 'Images\\\\Corel_202.jpg', 'Images\\\\Corel_203.jpg', 'Images\\\\Corel_204.jpg', 'Images\\\\Corel_205.jpg', 'Images\\\\Corel_206.jpg', 'Images\\\\Corel_207.jpg', 'Images\\\\Corel_208.jpg', 'Images\\\\Corel_209.jpg', 'Images\\\\Corel_21.jpg', 'Images\\\\Corel_210.jpg', 'Images\\\\Corel_211.jpg', 'Images\\\\Corel_212.jpg', 'Images\\\\Corel_213.jpg', 'Images\\\\Corel_214.jpg', 'Images\\\\Corel_215.jpg', 'Images\\\\Corel_216.jpg', 'Images\\\\Corel_217.jpg', 'Images\\\\Corel_218.jpg', 'Images\\\\Corel_219.jpg', 'Images\\\\Corel_22.jpg', 'Images\\\\Corel_220.jpg', 'Images\\\\Corel_221.jpg', 'Images\\\\Corel_222.jpg', 'Images\\\\Corel_223.jpg', 'Images\\\\Corel_224.jpg', 'Images\\\\Corel_225.jpg', 'Images\\\\Corel_226.jpg', 'Images\\\\Corel_227.jpg', 'Images\\\\Corel_228.jpg', 'Images\\\\Corel_229.jpg', 'Images\\\\Corel_23.jpg', 'Images\\\\Corel_230.jpg', 'Images\\\\Corel_231.jpg', 'Images\\\\Corel_232.jpg', 'Images\\\\Corel_233.jpg', 'Images\\\\Corel_234.jpg', 'Images\\\\Corel_235.jpg', 'Images\\\\Corel_236.jpg', 'Images\\\\Corel_237.jpg', 'Images\\\\Corel_238.jpg', 'Images\\\\Corel_239.jpg', 'Images\\\\Corel_24.jpg', 'Images\\\\Corel_240.jpg', 'Images\\\\Corel_241.jpg', 'Images\\\\Corel_242.jpg', 'Images\\\\Corel_243.jpg', 'Images\\\\Corel_244.jpg', 'Images\\\\Corel_245.jpg', 'Images\\\\Corel_246.jpg', 'Images\\\\Corel_247.jpg', 'Images\\\\Corel_248.jpg', 'Images\\\\Corel_249.jpg', 'Images\\\\Corel_25.jpg', 'Images\\\\Corel_250.jpg', 'Images\\\\Corel_251.jpg', 'Images\\\\Corel_252.jpg', 'Images\\\\Corel_253.jpg', 'Images\\\\Corel_254.jpg', 'Images\\\\Corel_255.jpg', 'Images\\\\Corel_256.jpg', 'Images\\\\Corel_257.jpg', 'Images\\\\Corel_258.jpg', 'Images\\\\Corel_259.jpg', 'Images\\\\Corel_26.jpg', 'Images\\\\Corel_260.jpg', 'Images\\\\Corel_261.jpg', 'Images\\\\Corel_262.jpg', 'Images\\\\Corel_263.jpg', 'Images\\\\Corel_264.jpg', 'Images\\\\Corel_265.jpg', 'Images\\\\Corel_266.jpg', 'Images\\\\Corel_267.jpg', 'Images\\\\Corel_268.jpg', 'Images\\\\Corel_269.jpg', 'Images\\\\Corel_27.jpg', 'Images\\\\Corel_270.jpg', 'Images\\\\Corel_271.jpg', 'Images\\\\Corel_272.jpg', 'Images\\\\Corel_273.jpg', 'Images\\\\Corel_274.jpg', 'Images\\\\Corel_275.jpg', 'Images\\\\Corel_276.jpg', 'Images\\\\Corel_277.jpg', 'Images\\\\Corel_278.jpg', 'Images\\\\Corel_279.jpg', 'Images\\\\Corel_28.jpg', 'Images\\\\Corel_280.jpg', 'Images\\\\Corel_281.jpg', 'Images\\\\Corel_282.jpg', 'Images\\\\Corel_283.jpg', 'Images\\\\Corel_284.jpg', 'Images\\\\Corel_285.jpg', 'Images\\\\Corel_286.jpg', 'Images\\\\Corel_287.jpg', 'Images\\\\Corel_288.jpg', 'Images\\\\Corel_289.jpg', 'Images\\\\Corel_29.jpg', 'Images\\\\Corel_290.jpg', 'Images\\\\Corel_291.jpg', 'Images\\\\Corel_292.jpg', 'Images\\\\Corel_293.jpg', 'Images\\\\Corel_294.jpg', 'Images\\\\Corel_295.jpg', 'Images\\\\Corel_296.jpg', 'Images\\\\Corel_297.jpg', 'Images\\\\Corel_298.jpg', 'Images\\\\Corel_299.jpg', 'Images\\\\Corel_3.jpg', 'Images\\\\Corel_30.jpg', 'Images\\\\Corel_300.jpg', 'Images\\\\Corel_301.jpg', 'Images\\\\Corel_302.jpg', 'Images\\\\Corel_303.jpg', 'Images\\\\Corel_304.jpg', 'Images\\\\Corel_305.jpg', 'Images\\\\Corel_306.jpg', 'Images\\\\Corel_307.jpg', 'Images\\\\Corel_308.jpg', 'Images\\\\Corel_309.jpg', 'Images\\\\Corel_31.jpg', 'Images\\\\Corel_310.jpg', 'Images\\\\Corel_311.jpg', 'Images\\\\Corel_312.jpg', 'Images\\\\Corel_313.jpg', 'Images\\\\Corel_314.jpg', 'Images\\\\Corel_315.jpg', 'Images\\\\Corel_316.jpg', 'Images\\\\Corel_317.jpg', 'Images\\\\Corel_318.jpg', 'Images\\\\Corel_319.jpg', 'Images\\\\Corel_32.jpg', 'Images\\\\Corel_320.jpg', 'Images\\\\Corel_321.jpg', 'Images\\\\Corel_322.jpg', 'Images\\\\Corel_323.jpg', 'Images\\\\Corel_324.jpg', 'Images\\\\Corel_325.jpg', 'Images\\\\Corel_326.jpg', 'Images\\\\Corel_327.jpg', 'Images\\\\Corel_328.jpg', 'Images\\\\Corel_329.jpg', 'Images\\\\Corel_33.jpg', 'Images\\\\Corel_330.jpg', 'Images\\\\Corel_331.jpg', 'Images\\\\Corel_332.jpg', 'Images\\\\Corel_333.jpg', 'Images\\\\Corel_334.jpg', 'Images\\\\Corel_335.jpg', 'Images\\\\Corel_336.jpg', 'Images\\\\Corel_337.jpg', 'Images\\\\Corel_338.jpg', 'Images\\\\Corel_339.jpg', 'Images\\\\Corel_34.jpg', 'Images\\\\Corel_340.jpg', 'Images\\\\Corel_341.jpg', 'Images\\\\Corel_342.jpg', 'Images\\\\Corel_343.jpg', 'Images\\\\Corel_344.jpg', 'Images\\\\Corel_345.jpg', 'Images\\\\Corel_346.jpg', 'Images\\\\Corel_347.jpg', 'Images\\\\Corel_348.jpg', 'Images\\\\Corel_349.jpg', 'Images\\\\Corel_35.jpg', 'Images\\\\Corel_350.jpg', 'Images\\\\Corel_351.jpg', 'Images\\\\Corel_352.jpg', 'Images\\\\Corel_353.jpg', 'Images\\\\Corel_354.jpg', 'Images\\\\Corel_355.jpg', 'Images\\\\Corel_356.jpg', 'Images\\\\Corel_357.jpg', 'Images\\\\Corel_358.jpg', 'Images\\\\Corel_359.jpg', 'Images\\\\Corel_36.jpg', 'Images\\\\Corel_360.jpg', 'Images\\\\Corel_361.jpg', 'Images\\\\Corel_362.jpg', 'Images\\\\Corel_363.jpg', 'Images\\\\Corel_364.jpg', 'Images\\\\Corel_365.jpg', 'Images\\\\Corel_366.jpg', 'Images\\\\Corel_367.jpg', 'Images\\\\Corel_368.jpg', 'Images\\\\Corel_369.jpg', 'Images\\\\Corel_37.jpg', 'Images\\\\Corel_370.jpg', 'Images\\\\Corel_371.jpg', 'Images\\\\Corel_372.jpg', 'Images\\\\Corel_373.jpg', 'Images\\\\Corel_374.jpg', 'Images\\\\Corel_375.jpg', 'Images\\\\Corel_376.jpg', 'Images\\\\Corel_377.jpg', 'Images\\\\Corel_378.jpg', 'Images\\\\Corel_379.jpg', 'Images\\\\Corel_38.jpg', 'Images\\\\Corel_380.jpg', 'Images\\\\Corel_381.jpg', 'Images\\\\Corel_382.jpg', 'Images\\\\Corel_383.jpg', 'Images\\\\Corel_384.jpg', 'Images\\\\Corel_385.jpg', 'Images\\\\Corel_386.jpg', 'Images\\\\Corel_387.jpg', 'Images\\\\Corel_388.jpg', 'Images\\\\Corel_389.jpg', 'Images\\\\Corel_39.jpg', 'Images\\\\Corel_390.jpg', 'Images\\\\Corel_391.jpg', 'Images\\\\Corel_392.jpg', 'Images\\\\Corel_393.jpg', 'Images\\\\Corel_394.jpg', 'Images\\\\Corel_395.jpg', 'Images\\\\Corel_396.jpg', 'Images\\\\Corel_397.jpg', 'Images\\\\Corel_398.jpg', 'Images\\\\Corel_399.jpg', 'Images\\\\Corel_4.jpg', 'Images\\\\Corel_40.jpg', 'Images\\\\Corel_400.jpg', 'Images\\\\Corel_401.jpg', 'Images\\\\Corel_402.jpg', 'Images\\\\Corel_403.jpg', 'Images\\\\Corel_404.jpg', 'Images\\\\Corel_405.jpg', 'Images\\\\Corel_406.jpg', 'Images\\\\Corel_407.jpg', 'Images\\\\Corel_408.jpg', 'Images\\\\Corel_409.jpg', 'Images\\\\Corel_41.jpg', 'Images\\\\Corel_410.jpg', 'Images\\\\Corel_411.jpg', 'Images\\\\Corel_412.jpg', 'Images\\\\Corel_413.jpg', 'Images\\\\Corel_414.jpg', 'Images\\\\Corel_415.jpg', 'Images\\\\Corel_416.jpg', 'Images\\\\Corel_417.jpg', 'Images\\\\Corel_418.jpg', 'Images\\\\Corel_419.jpg', 'Images\\\\Corel_42.jpg', 'Images\\\\Corel_420.jpg', 'Images\\\\Corel_421.jpg', 'Images\\\\Corel_422.jpg', 'Images\\\\Corel_423.jpg', 'Images\\\\Corel_424.jpg', 'Images\\\\Corel_425.jpg', 'Images\\\\Corel_426.jpg', 'Images\\\\Corel_427.jpg', 'Images\\\\Corel_428.jpg', 'Images\\\\Corel_429.jpg', 'Images\\\\Corel_43.jpg', 'Images\\\\Corel_430.jpg', 'Images\\\\Corel_431.jpg', 'Images\\\\Corel_432.jpg', 'Images\\\\Corel_433.jpg', 'Images\\\\Corel_434.jpg', 'Images\\\\Corel_435.jpg', 'Images\\\\Corel_436.jpg', 'Images\\\\Corel_437.jpg', 'Images\\\\Corel_438.jpg', 'Images\\\\Corel_439.jpg', 'Images\\\\Corel_44.jpg', 'Images\\\\Corel_440.jpg', 'Images\\\\Corel_441.jpg', 'Images\\\\Corel_442.jpg', 'Images\\\\Corel_443.jpg', 'Images\\\\Corel_444.jpg', 'Images\\\\Corel_445.jpg', 'Images\\\\Corel_446.jpg', 'Images\\\\Corel_447.jpg', 'Images\\\\Corel_448.jpg', 'Images\\\\Corel_449.jpg', 'Images\\\\Corel_45.jpg', 'Images\\\\Corel_450.jpg', 'Images\\\\Corel_451.jpg', 'Images\\\\Corel_452.jpg', 'Images\\\\Corel_453.jpg', 'Images\\\\Corel_454.jpg', 'Images\\\\Corel_455.jpg', 'Images\\\\Corel_456.jpg', 'Images\\\\Corel_457.jpg', 'Images\\\\Corel_458.jpg', 'Images\\\\Corel_459.jpg', 'Images\\\\Corel_46.jpg', 'Images\\\\Corel_460.jpg', 'Images\\\\Corel_461.jpg', 'Images\\\\Corel_462.jpg', 'Images\\\\Corel_463.jpg', 'Images\\\\Corel_464.jpg', 'Images\\\\Corel_465.jpg', 'Images\\\\Corel_466.jpg', 'Images\\\\Corel_467.jpg', 'Images\\\\Corel_468.jpg', 'Images\\\\Corel_469.jpg', 'Images\\\\Corel_47.jpg', 'Images\\\\Corel_470.jpg', 'Images\\\\Corel_471.jpg', 'Images\\\\Corel_472.jpg', 'Images\\\\Corel_473.jpg', 'Images\\\\Corel_474.jpg', 'Images\\\\Corel_475.jpg', 'Images\\\\Corel_476.jpg', 'Images\\\\Corel_477.jpg', 'Images\\\\Corel_478.jpg', 'Images\\\\Corel_479.jpg', 'Images\\\\Corel_48.jpg', 'Images\\\\Corel_480.jpg', 'Images\\\\Corel_481.jpg', 'Images\\\\Corel_482.jpg', 'Images\\\\Corel_483.jpg', 'Images\\\\Corel_484.jpg', 'Images\\\\Corel_485.jpg', 'Images\\\\Corel_486.jpg', 'Images\\\\Corel_487.jpg', 'Images\\\\Corel_488.jpg', 'Images\\\\Corel_489.jpg', 'Images\\\\Corel_49.jpg', 'Images\\\\Corel_490.jpg', 'Images\\\\Corel_491.jpg', 'Images\\\\Corel_492.jpg', 'Images\\\\Corel_493.jpg', 'Images\\\\Corel_494.jpg', 'Images\\\\Corel_495.jpg', 'Images\\\\Corel_496.jpg', 'Images\\\\Corel_497.jpg', 'Images\\\\Corel_498.jpg', 'Images\\\\Corel_499.jpg', 'Images\\\\Corel_5.jpg', 'Images\\\\Corel_50.jpg', 'Images\\\\Corel_500.jpg', 'Images\\\\Corel_501.jpg', 'Images\\\\Corel_502.jpg', 'Images\\\\Corel_503.jpg', 'Images\\\\Corel_504.jpg', 'Images\\\\Corel_505.jpg', 'Images\\\\Corel_506.jpg', 'Images\\\\Corel_507.jpg', 'Images\\\\Corel_508.jpg', 'Images\\\\Corel_509.jpg', 'Images\\\\Corel_51.jpg', 'Images\\\\Corel_510.jpg', 'Images\\\\Corel_511.jpg', 'Images\\\\Corel_512.jpg', 'Images\\\\Corel_513.jpg', 'Images\\\\Corel_514.jpg', 'Images\\\\Corel_515.jpg', 'Images\\\\Corel_516.jpg', 'Images\\\\Corel_517.jpg', 'Images\\\\Corel_518.jpg', 'Images\\\\Corel_519.jpg', 'Images\\\\Corel_52.jpg', 'Images\\\\Corel_520.jpg', 'Images\\\\Corel_521.jpg', 'Images\\\\Corel_522.jpg', 'Images\\\\Corel_523.jpg', 'Images\\\\Corel_524.jpg', 'Images\\\\Corel_525.jpg', 'Images\\\\Corel_526.jpg', 'Images\\\\Corel_527.jpg', 'Images\\\\Corel_528.jpg', 'Images\\\\Corel_529.jpg', 'Images\\\\Corel_53.jpg', 'Images\\\\Corel_530.jpg', 'Images\\\\Corel_531.jpg', 'Images\\\\Corel_532.jpg', 'Images\\\\Corel_533.jpg', 'Images\\\\Corel_534.jpg', 'Images\\\\Corel_535.jpg', 'Images\\\\Corel_536.jpg', 'Images\\\\Corel_537.jpg', 'Images\\\\Corel_538.jpg', 'Images\\\\Corel_539.jpg', 'Images\\\\Corel_54.jpg', 'Images\\\\Corel_540.jpg', 'Images\\\\Corel_541.jpg', 'Images\\\\Corel_542.jpg', 'Images\\\\Corel_543.jpg', 'Images\\\\Corel_544.jpg', 'Images\\\\Corel_545.jpg', 'Images\\\\Corel_546.jpg', 'Images\\\\Corel_547.jpg', 'Images\\\\Corel_548.jpg', 'Images\\\\Corel_549.jpg', 'Images\\\\Corel_55.jpg', 'Images\\\\Corel_550.jpg', 'Images\\\\Corel_551.jpg', 'Images\\\\Corel_552.jpg', 'Images\\\\Corel_553.jpg', 'Images\\\\Corel_554.jpg', 'Images\\\\Corel_555.jpg', 'Images\\\\Corel_556.jpg', 'Images\\\\Corel_557.jpg', 'Images\\\\Corel_558.jpg', 'Images\\\\Corel_559.jpg', 'Images\\\\Corel_56.jpg', 'Images\\\\Corel_560.jpg', 'Images\\\\Corel_561.jpg', 'Images\\\\Corel_562.jpg', 'Images\\\\Corel_563.jpg', 'Images\\\\Corel_564.jpg', 'Images\\\\Corel_565.jpg', 'Images\\\\Corel_566.jpg', 'Images\\\\Corel_567.jpg', 'Images\\\\Corel_568.jpg', 'Images\\\\Corel_569.jpg', 'Images\\\\Corel_57.jpg', 'Images\\\\Corel_570.jpg', 'Images\\\\Corel_571.jpg', 'Images\\\\Corel_572.jpg', 'Images\\\\Corel_573.jpg', 'Images\\\\Corel_574.jpg', 'Images\\\\Corel_575.jpg', 'Images\\\\Corel_576.jpg', 'Images\\\\Corel_577.jpg', 'Images\\\\Corel_578.jpg', 'Images\\\\Corel_579.jpg', 'Images\\\\Corel_58.jpg', 'Images\\\\Corel_580.jpg', 'Images\\\\Corel_581.jpg', 'Images\\\\Corel_582.jpg', 'Images\\\\Corel_583.jpg', 'Images\\\\Corel_584.jpg', 'Images\\\\Corel_585.jpg', 'Images\\\\Corel_586.jpg', 'Images\\\\Corel_587.jpg', 'Images\\\\Corel_588.jpg', 'Images\\\\Corel_589.jpg', 'Images\\\\Corel_59.jpg', 'Images\\\\Corel_590.jpg', 'Images\\\\Corel_591.jpg', 'Images\\\\Corel_592.jpg', 'Images\\\\Corel_593.jpg', 'Images\\\\Corel_594.jpg', 'Images\\\\Corel_595.jpg', 'Images\\\\Corel_596.jpg', 'Images\\\\Corel_597.jpg', 'Images\\\\Corel_598.jpg', 'Images\\\\Corel_599.jpg', 'Images\\\\Corel_6.jpg', 'Images\\\\Corel_60.jpg', 'Images\\\\Corel_600.jpg', 'Images\\\\Corel_601.jpg', 'Images\\\\Corel_602.jpg', 'Images\\\\Corel_603.jpg', 'Images\\\\Corel_604.jpg', 'Images\\\\Corel_605.jpg', 'Images\\\\Corel_606.jpg', 'Images\\\\Corel_607.jpg', 'Images\\\\Corel_608.jpg', 'Images\\\\Corel_609.jpg', 'Images\\\\Corel_61.jpg', 'Images\\\\Corel_610.jpg', 'Images\\\\Corel_611.jpg', 'Images\\\\Corel_612.jpg', 'Images\\\\Corel_613.jpg', 'Images\\\\Corel_614.jpg', 'Images\\\\Corel_615.jpg', 'Images\\\\Corel_616.jpg', 'Images\\\\Corel_617.jpg', 'Images\\\\Corel_618.jpg', 'Images\\\\Corel_619.jpg', 'Images\\\\Corel_62.jpg', 'Images\\\\Corel_620.jpg', 'Images\\\\Corel_621.jpg', 'Images\\\\Corel_622.jpg', 'Images\\\\Corel_623.jpg', 'Images\\\\Corel_624.jpg', 'Images\\\\Corel_625.jpg', 'Images\\\\Corel_626.jpg', 'Images\\\\Corel_627.jpg', 'Images\\\\Corel_628.jpg', 'Images\\\\Corel_629.jpg', 'Images\\\\Corel_63.jpg', 'Images\\\\Corel_630.jpg', 'Images\\\\Corel_631.jpg', 'Images\\\\Corel_632.jpg', 'Images\\\\Corel_633.jpg', 'Images\\\\Corel_634.jpg', 'Images\\\\Corel_635.jpg', 'Images\\\\Corel_636.jpg', 'Images\\\\Corel_637.jpg', 'Images\\\\Corel_638.jpg', 'Images\\\\Corel_639.jpg', 'Images\\\\Corel_64.jpg', 'Images\\\\Corel_640.jpg', 'Images\\\\Corel_641.jpg', 'Images\\\\Corel_642.jpg', 'Images\\\\Corel_643.jpg', 'Images\\\\Corel_644.jpg', 'Images\\\\Corel_645.jpg', 'Images\\\\Corel_646.jpg', 'Images\\\\Corel_647.jpg', 'Images\\\\Corel_648.jpg', 'Images\\\\Corel_649.jpg', 'Images\\\\Corel_65.jpg', 'Images\\\\Corel_650.jpg', 'Images\\\\Corel_651.jpg', 'Images\\\\Corel_652.jpg', 'Images\\\\Corel_653.jpg', 'Images\\\\Corel_654.jpg', 'Images\\\\Corel_655.jpg', 'Images\\\\Corel_656.jpg', 'Images\\\\Corel_657.jpg', 'Images\\\\Corel_658.jpg', 'Images\\\\Corel_659.jpg', 'Images\\\\Corel_66.jpg', 'Images\\\\Corel_660.jpg', 'Images\\\\Corel_661.jpg', 'Images\\\\Corel_662.jpg', 'Images\\\\Corel_663.jpg', 'Images\\\\Corel_664.jpg', 'Images\\\\Corel_665.jpg', 'Images\\\\Corel_666.jpg', 'Images\\\\Corel_667.jpg', 'Images\\\\Corel_668.jpg', 'Images\\\\Corel_669.jpg', 'Images\\\\Corel_67.jpg', 'Images\\\\Corel_670.jpg', 'Images\\\\Corel_671.jpg', 'Images\\\\Corel_672.jpg', 'Images\\\\Corel_673.jpg', 'Images\\\\Corel_674.jpg', 'Images\\\\Corel_675.jpg', 'Images\\\\Corel_676.jpg', 'Images\\\\Corel_677.jpg', 'Images\\\\Corel_678.jpg', 'Images\\\\Corel_679.jpg', 'Images\\\\Corel_68.jpg', 'Images\\\\Corel_680.jpg', 'Images\\\\Corel_681.jpg', 'Images\\\\Corel_682.jpg', 'Images\\\\Corel_683.jpg', 'Images\\\\Corel_684.jpg', 'Images\\\\Corel_685.jpg', 'Images\\\\Corel_686.jpg', 'Images\\\\Corel_687.jpg', 'Images\\\\Corel_688.jpg', 'Images\\\\Corel_689.jpg', 'Images\\\\Corel_69.jpg', 'Images\\\\Corel_690.jpg', 'Images\\\\Corel_691.jpg', 'Images\\\\Corel_692.jpg', 'Images\\\\Corel_693.jpg', 'Images\\\\Corel_694.jpg', 'Images\\\\Corel_695.jpg', 'Images\\\\Corel_696.jpg', 'Images\\\\Corel_697.jpg', 'Images\\\\Corel_698.jpg', 'Images\\\\Corel_699.jpg', 'Images\\\\Corel_7.jpg', 'Images\\\\Corel_70.jpg', 'Images\\\\Corel_700.jpg', 'Images\\\\Corel_701.jpg', 'Images\\\\Corel_702.jpg', 'Images\\\\Corel_703.jpg', 'Images\\\\Corel_704.jpg', 'Images\\\\Corel_705.jpg', 'Images\\\\Corel_706.jpg', 'Images\\\\Corel_707.jpg', 'Images\\\\Corel_708.jpg', 'Images\\\\Corel_709.jpg', 'Images\\\\Corel_71.jpg', 'Images\\\\Corel_710.jpg', 'Images\\\\Corel_711.jpg', 'Images\\\\Corel_712.jpg', 'Images\\\\Corel_713.jpg', 'Images\\\\Corel_714.jpg', 'Images\\\\Corel_715.jpg', 'Images\\\\Corel_716.jpg', 'Images\\\\Corel_717.jpg', 'Images\\\\Corel_718.jpg', 'Images\\\\Corel_719.jpg', 'Images\\\\Corel_72.jpg', 'Images\\\\Corel_720.jpg', 'Images\\\\Corel_721.jpg', 'Images\\\\Corel_722.jpg', 'Images\\\\Corel_723.jpg', 'Images\\\\Corel_724.jpg', 'Images\\\\Corel_725.jpg', 'Images\\\\Corel_726.jpg', 'Images\\\\Corel_727.jpg', 'Images\\\\Corel_728.jpg', 'Images\\\\Corel_729.jpg', 'Images\\\\Corel_73.jpg', 'Images\\\\Corel_730.jpg', 'Images\\\\Corel_731.jpg', 'Images\\\\Corel_732.jpg', 'Images\\\\Corel_733.jpg', 'Images\\\\Corel_734.jpg', 'Images\\\\Corel_735.jpg', 'Images\\\\Corel_736.jpg', 'Images\\\\Corel_737.jpg', 'Images\\\\Corel_738.jpg', 'Images\\\\Corel_739.jpg', 'Images\\\\Corel_74.jpg', 'Images\\\\Corel_740.jpg', 'Images\\\\Corel_741.jpg', 'Images\\\\Corel_742.jpg', 'Images\\\\Corel_743.jpg', 'Images\\\\Corel_744.jpg', 'Images\\\\Corel_745.jpg', 'Images\\\\Corel_746.jpg', 'Images\\\\Corel_747.jpg', 'Images\\\\Corel_748.jpg', 'Images\\\\Corel_749.jpg', 'Images\\\\Corel_75.jpg', 'Images\\\\Corel_750.jpg', 'Images\\\\Corel_751.jpg', 'Images\\\\Corel_752.jpg', 'Images\\\\Corel_753.jpg', 'Images\\\\Corel_754.jpg', 'Images\\\\Corel_755.jpg', 'Images\\\\Corel_756.jpg', 'Images\\\\Corel_757.jpg', 'Images\\\\Corel_758.jpg', 'Images\\\\Corel_759.jpg', 'Images\\\\Corel_76.jpg', 'Images\\\\Corel_760.jpg', 'Images\\\\Corel_761.jpg', 'Images\\\\Corel_762.jpg', 'Images\\\\Corel_763.jpg', 'Images\\\\Corel_764.jpg', 'Images\\\\Corel_765.jpg', 'Images\\\\Corel_766.jpg', 'Images\\\\Corel_767.jpg', 'Images\\\\Corel_768.jpg', 'Images\\\\Corel_769.jpg', 'Images\\\\Corel_77.jpg', 'Images\\\\Corel_770.jpg', 'Images\\\\Corel_771.jpg', 'Images\\\\Corel_772.jpg', 'Images\\\\Corel_773.jpg', 'Images\\\\Corel_774.jpg', 'Images\\\\Corel_775.jpg', 'Images\\\\Corel_776.jpg', 'Images\\\\Corel_777.jpg', 'Images\\\\Corel_778.jpg', 'Images\\\\Corel_779.jpg', 'Images\\\\Corel_78.jpg', 'Images\\\\Corel_780.jpg', 'Images\\\\Corel_781.jpg', 'Images\\\\Corel_782.jpg', 'Images\\\\Corel_783.jpg', 'Images\\\\Corel_784.jpg', 'Images\\\\Corel_785.jpg', 'Images\\\\Corel_786.jpg', 'Images\\\\Corel_787.jpg', 'Images\\\\Corel_788.jpg', 'Images\\\\Corel_789.jpg', 'Images\\\\Corel_79.jpg', 'Images\\\\Corel_790.jpg', 'Images\\\\Corel_791.jpg', 'Images\\\\Corel_792.jpg', 'Images\\\\Corel_793.jpg', 'Images\\\\Corel_794.jpg', 'Images\\\\Corel_795.jpg', 'Images\\\\Corel_796.jpg', 'Images\\\\Corel_797.jpg', 'Images\\\\Corel_798.jpg', 'Images\\\\Corel_799.jpg', 'Images\\\\Corel_8.jpg', 'Images\\\\Corel_80.jpg', 'Images\\\\Corel_800.jpg', 'Images\\\\Corel_801.jpg', 'Images\\\\Corel_802.jpg', 'Images\\\\Corel_803.jpg', 'Images\\\\Corel_804.jpg', 'Images\\\\Corel_805.jpg', 'Images\\\\Corel_806.jpg', 'Images\\\\Corel_807.jpg', 'Images\\\\Corel_808.jpg', 'Images\\\\Corel_809.jpg', 'Images\\\\Corel_81.jpg', 'Images\\\\Corel_810.jpg', 'Images\\\\Corel_811.jpg', 'Images\\\\Corel_812.jpg', 'Images\\\\Corel_813.jpg', 'Images\\\\Corel_814.jpg', 'Images\\\\Corel_815.jpg', 'Images\\\\Corel_816.jpg', 'Images\\\\Corel_817.jpg', 'Images\\\\Corel_818.jpg', 'Images\\\\Corel_819.jpg', 'Images\\\\Corel_82.jpg', 'Images\\\\Corel_820.jpg', 'Images\\\\Corel_821.jpg', 'Images\\\\Corel_822.jpg', 'Images\\\\Corel_823.jpg', 'Images\\\\Corel_824.jpg', 'Images\\\\Corel_825.jpg', 'Images\\\\Corel_826.jpg', 'Images\\\\Corel_827.jpg', 'Images\\\\Corel_828.jpg', 'Images\\\\Corel_829.jpg', 'Images\\\\Corel_83.jpg', 'Images\\\\Corel_830.jpg', 'Images\\\\Corel_831.jpg', 'Images\\\\Corel_832.jpg', 'Images\\\\Corel_833.jpg', 'Images\\\\Corel_834.jpg', 'Images\\\\Corel_835.jpg', 'Images\\\\Corel_836.jpg', 'Images\\\\Corel_837.jpg', 'Images\\\\Corel_838.jpg', 'Images\\\\Corel_839.jpg', 'Images\\\\Corel_84.jpg', 'Images\\\\Corel_840.jpg', 'Images\\\\Corel_841.jpg', 'Images\\\\Corel_842.jpg', 'Images\\\\Corel_843.jpg', 'Images\\\\Corel_844.jpg', 'Images\\\\Corel_845.jpg', 'Images\\\\Corel_846.jpg', 'Images\\\\Corel_847.jpg', 'Images\\\\Corel_848.jpg', 'Images\\\\Corel_849.jpg', 'Images\\\\Corel_85.jpg', 'Images\\\\Corel_850.jpg', 'Images\\\\Corel_851.jpg', 'Images\\\\Corel_852.jpg', 'Images\\\\Corel_853.jpg', 'Images\\\\Corel_854.jpg', 'Images\\\\Corel_855.jpg', 'Images\\\\Corel_856.jpg', 'Images\\\\Corel_857.jpg', 'Images\\\\Corel_858.jpg', 'Images\\\\Corel_859.jpg', 'Images\\\\Corel_86.jpg', 'Images\\\\Corel_860.jpg', 'Images\\\\Corel_861.jpg', 'Images\\\\Corel_862.jpg', 'Images\\\\Corel_863.jpg', 'Images\\\\Corel_864.jpg', 'Images\\\\Corel_865.jpg', 'Images\\\\Corel_866.jpg', 'Images\\\\Corel_867.jpg', 'Images\\\\Corel_868.jpg', 'Images\\\\Corel_869.jpg', 'Images\\\\Corel_87.jpg', 'Images\\\\Corel_870.jpg', 'Images\\\\Corel_871.jpg', 'Images\\\\Corel_872.jpg', 'Images\\\\Corel_873.jpg', 'Images\\\\Corel_874.jpg', 'Images\\\\Corel_875.jpg', 'Images\\\\Corel_876.jpg', 'Images\\\\Corel_877.jpg', 'Images\\\\Corel_878.jpg', 'Images\\\\Corel_879.jpg', 'Images\\\\Corel_88.jpg', 'Images\\\\Corel_880.jpg', 'Images\\\\Corel_881.jpg', 'Images\\\\Corel_882.jpg', 'Images\\\\Corel_883.jpg', 'Images\\\\Corel_884.jpg', 'Images\\\\Corel_885.jpg', 'Images\\\\Corel_886.jpg', 'Images\\\\Corel_887.jpg', 'Images\\\\Corel_888.jpg', 'Images\\\\Corel_889.jpg', 'Images\\\\Corel_89.jpg', 'Images\\\\Corel_890.jpg', 'Images\\\\Corel_891.jpg', 'Images\\\\Corel_892.jpg', 'Images\\\\Corel_893.jpg', 'Images\\\\Corel_894.jpg', 'Images\\\\Corel_895.jpg', 'Images\\\\Corel_896.jpg', 'Images\\\\Corel_897.jpg', 'Images\\\\Corel_898.jpg', 'Images\\\\Corel_899.jpg', 'Images\\\\Corel_9.jpg', 'Images\\\\Corel_90.jpg', 'Images\\\\Corel_900.jpg', 'Images\\\\Corel_901.jpg', 'Images\\\\Corel_902.jpg', 'Images\\\\Corel_903.jpg', 'Images\\\\Corel_904.jpg', 'Images\\\\Corel_905.jpg', 'Images\\\\Corel_906.jpg', 'Images\\\\Corel_907.jpg', 'Images\\\\Corel_908.jpg', 'Images\\\\Corel_909.jpg', 'Images\\\\Corel_91.jpg', 'Images\\\\Corel_910.jpg', 'Images\\\\Corel_911.jpg', 'Images\\\\Corel_912.jpg', 'Images\\\\Corel_913.jpg', 'Images\\\\Corel_914.jpg', 'Images\\\\Corel_915.jpg', 'Images\\\\Corel_916.jpg', 'Images\\\\Corel_917.jpg', 'Images\\\\Corel_918.jpg', 'Images\\\\Corel_919.jpg', 'Images\\\\Corel_92.jpg', 'Images\\\\Corel_920.jpg', 'Images\\\\Corel_921.jpg', 'Images\\\\Corel_922.jpg', 'Images\\\\Corel_923.jpg', 'Images\\\\Corel_924.jpg', 'Images\\\\Corel_925.jpg', 'Images\\\\Corel_926.jpg', 'Images\\\\Corel_927.jpg', 'Images\\\\Corel_928.jpg', 'Images\\\\Corel_929.jpg', 'Images\\\\Corel_93.jpg', 'Images\\\\Corel_930.jpg', 'Images\\\\Corel_931.jpg', 'Images\\\\Corel_932.jpg', 'Images\\\\Corel_933.jpg', 'Images\\\\Corel_934.jpg', 'Images\\\\Corel_935.jpg', 'Images\\\\Corel_936.jpg', 'Images\\\\Corel_937.jpg', 'Images\\\\Corel_938.jpg', 'Images\\\\Corel_939.jpg', 'Images\\\\Corel_94.jpg', 'Images\\\\Corel_940.jpg', 'Images\\\\Corel_941.jpg', 'Images\\\\Corel_942.jpg', 'Images\\\\Corel_943.jpg', 'Images\\\\Corel_944.jpg', 'Images\\\\Corel_945.jpg', 'Images\\\\Corel_946.jpg', 'Images\\\\Corel_947.jpg', 'Images\\\\Corel_948.jpg', 'Images\\\\Corel_949.jpg', 'Images\\\\Corel_95.jpg', 'Images\\\\Corel_950.jpg', 'Images\\\\Corel_951.jpg', 'Images\\\\Corel_952.jpg', 'Images\\\\Corel_953.jpg', 'Images\\\\Corel_954.jpg', 'Images\\\\Corel_955.jpg', 'Images\\\\Corel_956.jpg', 'Images\\\\Corel_957.jpg', 'Images\\\\Corel_958.jpg', 'Images\\\\Corel_959.jpg', 'Images\\\\Corel_96.jpg', 'Images\\\\Corel_960.jpg', 'Images\\\\Corel_961.jpg', 'Images\\\\Corel_962.jpg', 'Images\\\\Corel_963.jpg', 'Images\\\\Corel_964.jpg', 'Images\\\\Corel_965.jpg', 'Images\\\\Corel_966.jpg', 'Images\\\\Corel_967.jpg', 'Images\\\\Corel_968.jpg', 'Images\\\\Corel_969.jpg', 'Images\\\\Corel_97.jpg', 'Images\\\\Corel_970.jpg', 'Images\\\\Corel_971.jpg', 'Images\\\\Corel_972.jpg', 'Images\\\\Corel_973.jpg', 'Images\\\\Corel_974.jpg', 'Images\\\\Corel_975.jpg', 'Images\\\\Corel_976.jpg', 'Images\\\\Corel_977.jpg', 'Images\\\\Corel_978.jpg', 'Images\\\\Corel_979.jpg', 'Images\\\\Corel_98.jpg', 'Images\\\\Corel_980.jpg', 'Images\\\\Corel_981.jpg', 'Images\\\\Corel_982.jpg', 'Images\\\\Corel_983.jpg', 'Images\\\\Corel_984.jpg', 'Images\\\\Corel_985.jpg', 'Images\\\\Corel_986.jpg', 'Images\\\\Corel_987.jpg', 'Images\\\\Corel_988.jpg', 'Images\\\\Corel_989.jpg', 'Images\\\\Corel_99.jpg', 'Images\\\\Corel_990.jpg', 'Images\\\\Corel_991.jpg', 'Images\\\\Corel_992.jpg', 'Images\\\\Corel_993.jpg', 'Images\\\\Corel_994.jpg', 'Images\\\\Corel_995.jpg', 'Images\\\\Corel_996.jpg', 'Images\\\\Corel_997.jpg', 'Images\\\\Corel_998.jpg', 'Images\\\\Corel_999.jpg']"
     ]
    },
    {
     "name": "stdout",
     "output_type": "stream",
     "text": [
      "\n"
     ]
    }
   ],
   "source": [
    "images_path = 'Images'\n",
    "max_num_images = 2000\n",
    "\n",
    "images = [os.path.join(dp, f) for dp, dn, filenames in os.walk(images_path) for f in filenames if os.path.splitext(f)[1].lower() in ['.jpg','.png','.jpeg']]\n",
    "if max_num_images < len(images):\n",
    "    images = [images[i] for i in sorted(random.sample(xrange(len(images)), max_num_images))]\n",
    "print(images)"
   ]
  },
  {
   "cell_type": "code",
   "execution_count": 35,
   "metadata": {},
   "outputs": [],
   "source": [
    "model = keras.applications.VGG19(weights='imagenet', include_top=True)\n",
    "feat_extractor = Model(inputs=model.input, outputs=model.get_layer(\"fc2\").output)\n",
    "pca_features = np.loadtxt(\"test1-VGG19.out\")"
   ]
  },
  {
   "cell_type": "code",
   "execution_count": 44,
   "metadata": {},
   "outputs": [],
   "source": [
    "def final(path):\n",
    "    query_image_idx = images.index(path)\n",
    "    idx_closest = get_closest_images(query_image_idx)\n",
    "    query_image = get_concatenated_images([query_image_idx], 300)\n",
    "    results_image = get_concatenated_images(idx_closest, 200)\n",
    "    matplotlib.pyplot.figure(figsize = (5,5))\n",
    "    imshow(query_image)\n",
    "    matplotlib.pyplot.title(\"query image (%d)\" % query_image_idx)\n",
    "    matplotlib.pyplot.figure(figsize = (16,12))\n",
    "    imshow(results_image)\n",
    "    matplotlib.pyplot.title(\"result image\")"
   ]
  },
  {
   "cell_type": "code",
   "execution_count": 46,
   "metadata": {
    "scrolled": true
   },
   "outputs": [
    {
     "ename": "ValueError",
     "evalue": "'Images//Corel_368.jpg' is not in list",
     "output_type": "error",
     "traceback": [
      "\u001b[1;31m---------------------------------------------------------------------------\u001b[0m",
      "\u001b[1;31mValueError\u001b[0m                                Traceback (most recent call last)",
      "\u001b[1;32m<ipython-input-46-3dd79b173069>\u001b[0m in \u001b[0;36m<module>\u001b[1;34m()\u001b[0m\n\u001b[1;32m----> 1\u001b[1;33m \u001b[0mfinal\u001b[0m\u001b[1;33m(\u001b[0m\u001b[1;34m\"Images//Corel_368.jpg\"\u001b[0m\u001b[1;33m)\u001b[0m\u001b[1;33m\u001b[0m\u001b[0m\n\u001b[0m",
      "\u001b[1;32m<ipython-input-44-40e7031b607c>\u001b[0m in \u001b[0;36mfinal\u001b[1;34m(path)\u001b[0m\n\u001b[0;32m      1\u001b[0m \u001b[1;32mdef\u001b[0m \u001b[0mfinal\u001b[0m\u001b[1;33m(\u001b[0m\u001b[0mpath\u001b[0m\u001b[1;33m)\u001b[0m\u001b[1;33m:\u001b[0m\u001b[1;33m\u001b[0m\u001b[0m\n\u001b[1;32m----> 2\u001b[1;33m     \u001b[0mquery_image_idx\u001b[0m \u001b[1;33m=\u001b[0m \u001b[0mimages\u001b[0m\u001b[1;33m.\u001b[0m\u001b[0mindex\u001b[0m\u001b[1;33m(\u001b[0m\u001b[0mpath\u001b[0m\u001b[1;33m)\u001b[0m\u001b[1;33m\u001b[0m\u001b[0m\n\u001b[0m\u001b[0;32m      3\u001b[0m     \u001b[0midx_closest\u001b[0m \u001b[1;33m=\u001b[0m \u001b[0mget_closest_images\u001b[0m\u001b[1;33m(\u001b[0m\u001b[0mquery_image_idx\u001b[0m\u001b[1;33m)\u001b[0m\u001b[1;33m\u001b[0m\u001b[0m\n\u001b[0;32m      4\u001b[0m     \u001b[0mquery_image\u001b[0m \u001b[1;33m=\u001b[0m \u001b[0mget_concatenated_images\u001b[0m\u001b[1;33m(\u001b[0m\u001b[1;33m[\u001b[0m\u001b[0mquery_image_idx\u001b[0m\u001b[1;33m]\u001b[0m\u001b[1;33m,\u001b[0m \u001b[1;36m300\u001b[0m\u001b[1;33m)\u001b[0m\u001b[1;33m\u001b[0m\u001b[0m\n\u001b[0;32m      5\u001b[0m     \u001b[0mresults_image\u001b[0m \u001b[1;33m=\u001b[0m \u001b[0mget_concatenated_images\u001b[0m\u001b[1;33m(\u001b[0m\u001b[0midx_closest\u001b[0m\u001b[1;33m,\u001b[0m \u001b[1;36m200\u001b[0m\u001b[1;33m)\u001b[0m\u001b[1;33m\u001b[0m\u001b[0m\n",
      "\u001b[1;31mValueError\u001b[0m: 'Images//Corel_368.jpg' is not in list"
     ]
    }
   ],
   "source": [
    "final(\"Images\\\\Corel_368.jpg\")"
   ]
  },
  {
   "cell_type": "code",
   "execution_count": null,
   "metadata": {
    "collapsed": true
   },
   "outputs": [],
   "source": []
  }
 ],
 "metadata": {
  "kernelspec": {
   "display_name": "Python 3",
   "language": "python",
   "name": "python3"
  },
  "language_info": {
   "codemirror_mode": {
    "name": "ipython",
    "version": 3
   },
   "file_extension": ".py",
   "mimetype": "text/x-python",
   "name": "python",
   "nbconvert_exporter": "python",
   "pygments_lexer": "ipython3",
   "version": "3.5.0"
  }
 },
 "nbformat": 4,
 "nbformat_minor": 2
}
